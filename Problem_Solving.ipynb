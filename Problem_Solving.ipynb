{
  "nbformat": 4,
  "nbformat_minor": 0,
  "metadata": {
    "colab": {
      "name": "Problem Solving.ipynb",
      "provenance": [],
      "authorship_tag": "ABX9TyMQlQCxhTpOmYm6ieXBbWVv",
      "include_colab_link": true
    },
    "kernelspec": {
      "name": "python3",
      "display_name": "Python 3"
    },
    "language_info": {
      "name": "python"
    }
  },
  "cells": [
    {
      "cell_type": "markdown",
      "metadata": {
        "id": "view-in-github",
        "colab_type": "text"
      },
      "source": [
        "<a href=\"https://colab.research.google.com/github/Shikha2889/Coding_Curriculum_Python/blob/main/Problem_Solving.ipynb\" target=\"_parent\"><img src=\"https://colab.research.google.com/assets/colab-badge.svg\" alt=\"Open In Colab\"/></a>"
      ]
    },
    {
      "cell_type": "markdown",
      "source": [
        "#Given 3 numbers find the largest number\n",
        "#Prompt the user to enter the 3 numbers\n"
      ],
      "metadata": {
        "id": "rC9nKglPFIhJ"
      }
    },
    {
      "cell_type": "code",
      "execution_count": 6,
      "metadata": {
        "colab": {
          "base_uri": "https://localhost:8080/"
        },
        "id": "MosIiSbWCU3L",
        "outputId": "d65e3e1c-51ee-4542-e25c-bab0d4a7930b"
      },
      "outputs": [
        {
          "output_type": "stream",
          "name": "stdout",
          "text": [
            "Enter the first number34\n",
            "Enter the second number5\n",
            "Enter the third number89\n",
            "89is maximum\n"
          ]
        }
      ],
      "source": [
        "A = int(input(\"Enter the first number\"))\n",
        "B = int(input(\"Enter the second number\"))\n",
        "C = int(input(\"Enter the third number\"))\n",
        "\n",
        "def maximum(A,B,C):\n",
        "    if(A>B and A>C):\n",
        "        print(str(A)+ \"is maximum\")\n",
        "    elif(B>C and B>A):\n",
        "        print(str(B) + \"is maximum\")\n",
        "    elif(C>A and C>B):\n",
        "        print(str(C)+ \"is maximum\")\n",
        "maximum(A,B,C)"
      ]
    },
    {
      "cell_type": "markdown",
      "source": [
        "#Find the sum of numbers till N "
      ],
      "metadata": {
        "id": "sEu72QExI2NI"
      }
    },
    {
      "cell_type": "code",
      "source": [
        "N = int(input(\"Enter the number till which you want to add\"))\n",
        "sum = 0 \n",
        "for i in range(1,N+1):\n",
        "    sum = sum +i\n",
        "\n",
        "print(sum)\n"
      ],
      "metadata": {
        "colab": {
          "base_uri": "https://localhost:8080/"
        },
        "id": "wFpn9GMGJaVj",
        "outputId": "6be1da84-18a8-4a4b-da24-4816908cb903"
      },
      "execution_count": 10,
      "outputs": [
        {
          "output_type": "stream",
          "name": "stdout",
          "text": [
            "Enter the number till which you want to add5\n",
            "15\n"
          ]
        }
      ]
    },
    {
      "cell_type": "markdown",
      "source": [
        "#Given a number check if it is prime or not\n"
      ],
      "metadata": {
        "id": "GqRYxqt8Kmtk"
      }
    },
    {
      "cell_type": "code",
      "source": [
        "import math\n",
        "num = int(input(\"Enter the number\"))\n",
        "prime = True\n",
        "final = round(math.sqrt(num))\n",
        "\n",
        "for i in range(2,final+1):\n",
        "    \n",
        "    if(num%i ==0):\n",
        "        prime = False\n",
        "        \n",
        "print(prime) "
      ],
      "metadata": {
        "colab": {
          "base_uri": "https://localhost:8080/"
        },
        "id": "lQsWdrOCKstl",
        "outputId": "6ea4014c-975e-436e-f994-ea580cf9c76a"
      },
      "execution_count": 27,
      "outputs": [
        {
          "output_type": "stream",
          "name": "stdout",
          "text": [
            "Enter the number7\n",
            "True\n"
          ]
        }
      ]
    },
    {
      "cell_type": "markdown",
      "source": [
        "#Print the following pattern for a given N.\n",
        "#N = 4\n",
        "#1\n",
        "#2 3\n",
        "#4 5 6\n",
        "#7 8 9 10\n"
      ],
      "metadata": {
        "id": "E2zCLsC_qBjy"
      }
    },
    {
      "cell_type": "code",
      "source": [
        "N = int(input())\n",
        "num=1\n",
        "for i in range(1,N+1):\n",
        "    for j in range(1,i+1):\n",
        "        print(num,end=\" \")\n",
        "        num+=1\n",
        "    print(\" \")"
      ],
      "metadata": {
        "colab": {
          "base_uri": "https://localhost:8080/"
        },
        "id": "gil1MBPRqAzn",
        "outputId": "28d4a58a-f3db-4525-97f7-bb942f34805a"
      },
      "execution_count": 40,
      "outputs": [
        {
          "output_type": "stream",
          "name": "stdout",
          "text": [
            "4\n",
            "1  \n",
            "2 3  \n",
            "4 5 6  \n",
            "7 8 9 10  \n"
          ]
        }
      ]
    },
    {
      "cell_type": "markdown",
      "source": [
        "#Half Diamond Pattern\n",
        "#N = 3\n",
        "#   *\n",
        "#  ***\n",
        "# ******"
      ],
      "metadata": {
        "id": "Vb-4Z3st1SVI"
      }
    },
    {
      "cell_type": "code",
      "source": [
        "N= int(input())\n",
        "for i in range(1,N+1):\n",
        "    "
      ],
      "metadata": {
        "id": "sONzdqbJ1gXi"
      },
      "execution_count": null,
      "outputs": []
    }
  ]
}