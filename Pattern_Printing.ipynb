{
  "nbformat": 4,
  "nbformat_minor": 0,
  "metadata": {
    "colab": {
      "name": "Pattern Printing.ipynb",
      "provenance": [],
      "authorship_tag": "ABX9TyPiFAjGz3+BMgRl7K85AY07",
      "include_colab_link": true
    },
    "kernelspec": {
      "name": "python3",
      "display_name": "Python 3"
    },
    "language_info": {
      "name": "python"
    }
  },
  "cells": [
    {
      "cell_type": "markdown",
      "metadata": {
        "id": "view-in-github",
        "colab_type": "text"
      },
      "source": [
        "<a href=\"https://colab.research.google.com/github/Shikha2889/Coding_Curriculum_Python/blob/main/Pattern_Printing.ipynb\" target=\"_parent\"><img src=\"https://colab.research.google.com/assets/colab-badge.svg\" alt=\"Open In Colab\"/></a>"
      ]
    },
    {
      "cell_type": "markdown",
      "source": [
        "#1.Given an integer 'n' (0 < n < 10), print the following triangle.\n",
        "\n",
        "Input : 4\n",
        "\n",
        "Output:\n",
        "\n",
        "1\n",
        "\n",
        "22\n",
        "\n",
        "333\n",
        "\n",
        "4444"
      ],
      "metadata": {
        "id": "I0DI-_rkfxhL"
      }
    },
    {
      "cell_type": "code",
      "execution_count": null,
      "metadata": {
        "id": "a0T-VvTJ3i7F"
      },
      "outputs": [],
      "source": [
        "#   *\n",
        "#  * *\n",
        "# * * *"
      ]
    },
    {
      "cell_type": "code",
      "source": [
        "N= int(input())\n",
        "k=N-1\n",
        "for i in range(1,N+1):\n",
        "    for j in range(1,k+1):\n",
        "        print(\" \",end =\"\")\n",
        "    for j in range(1,i+1):\n",
        "        print(\"* \",end = \"\")\n",
        "    k=k-1\n",
        "    print(\" \")\n",
        "    "
      ],
      "metadata": {
        "colab": {
          "base_uri": "https://localhost:8080/"
        },
        "id": "p_blzNrsiP06",
        "outputId": "8e7871c2-700f-475f-f8c6-8617efe40c08"
      },
      "execution_count": null,
      "outputs": [
        {
          "output_type": "stream",
          "name": "stdout",
          "text": [
            "6\n",
            "     *  \n",
            "    * *  \n",
            "   * * *  \n",
            "  * * * *  \n",
            " * * * * *  \n",
            "* * * * * *  \n"
          ]
        }
      ]
    },
    {
      "cell_type": "markdown",
      "source": [
        "#2.Inverted pyramid\n"
      ],
      "metadata": {
        "id": "6kf9IKIr_RMC"
      }
    },
    {
      "cell_type": "code",
      "source": [
        "N= int(input())\n",
        "k=0\n",
        "for i in range(N+1,1,-1):\n",
        "    for j in range(k,0,-1):\n",
        "        print(\" \",end= \"\")\n",
        "    k=k+1\n",
        "    for j in range(1,i):\n",
        "        print(\"* \",end=\"\")\n",
        "    print(\"\")\n"
      ],
      "metadata": {
        "colab": {
          "base_uri": "https://localhost:8080/"
        },
        "id": "Y12TAGzFwBuX",
        "outputId": "2e64aeca-87f3-49c2-8b10-0f7cb6bffefa"
      },
      "execution_count": null,
      "outputs": [
        {
          "output_type": "stream",
          "name": "stdout",
          "text": [
            "6\n",
            "* * * * * * \n",
            " * * * * * \n",
            "  * * * * \n",
            "   * * * \n",
            "    * * \n",
            "     * \n"
          ]
        }
      ]
    },
    {
      "cell_type": "markdown",
      "source": [
        "#3.Pascal triangle\n",
        "![image.png](data:image/png;base64,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)"
      ],
      "metadata": {
        "id": "plj6ZxO2AyCF"
      }
    },
    {
      "cell_type": "code",
      "source": [
        "n = int(input())\n",
        "for i in range(1,n):\n",
        "    #spaces = n-i\n",
        "    for j in range(n-i,0,-1):\n",
        "        print(\" \",end = \"\")\n",
        "    for j in range(1,i+1):\n",
        "        print(str(j)+\" \",end = \"\")\n",
        "    print(\"\")\n",
        "\n",
        "\n"
      ],
      "metadata": {
        "id": "nbdG4xt1wB5T",
        "colab": {
          "base_uri": "https://localhost:8080/"
        },
        "outputId": "8fd52e78-abe4-4a4c-cbe0-080baa71bd08"
      },
      "execution_count": null,
      "outputs": [
        {
          "output_type": "stream",
          "name": "stdout",
          "text": [
            "6\n",
            "     1 \n",
            "    1 2 \n",
            "   1 2 3 \n",
            "  1 2 3 4 \n",
            " 1 2 3 4 5 \n"
          ]
        }
      ]
    }
  ]
}