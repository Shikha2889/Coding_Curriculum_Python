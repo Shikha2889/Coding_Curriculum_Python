{
  "nbformat": 4,
  "nbformat_minor": 0,
  "metadata": {
    "colab": {
      "name": "Class 2_Exercises(Nested_Loops).ipynb",
      "provenance": [],
      "authorship_tag": "ABX9TyOk2VzxYsd7zFQGZKP1C6Jn",
      "include_colab_link": true
    },
    "kernelspec": {
      "name": "python3",
      "display_name": "Python 3"
    },
    "language_info": {
      "name": "python"
    }
  },
  "cells": [
    {
      "cell_type": "markdown",
      "metadata": {
        "id": "view-in-github",
        "colab_type": "text"
      },
      "source": [
        "<a href=\"https://colab.research.google.com/github/Shikha2889/Coding_Curriculum_Python/blob/main/Class_2_Exercises(Nested_Loops).ipynb\" target=\"_parent\"><img src=\"https://colab.research.google.com/assets/colab-badge.svg\" alt=\"Open In Colab\"/></a>"
      ]
    },
    {
      "cell_type": "markdown",
      "source": [
        "#1.Calculate the HCF of given two numbers\n"
      ],
      "metadata": {
        "id": "TC1wbq7n2zkk"
      }
    },
    {
      "cell_type": "code",
      "execution_count": null,
      "metadata": {
        "colab": {
          "base_uri": "https://localhost:8080/"
        },
        "id": "_EfXqyhm0Dpv",
        "outputId": "4d00b097-ce9a-4bca-a248-0811cb8b54aa"
      },
      "outputs": [
        {
          "output_type": "stream",
          "name": "stdout",
          "text": [
            "15\n"
          ]
        }
      ],
      "source": [
        "A = 15\n",
        "B = 30\n",
        "hcf = 1\n",
        "for i in range(2,min(A,B)+1):\n",
        "    if(A%i==0 and B%i ==0):\n",
        "        hcf = i\n",
        "print(hcf)"
      ]
    },
    {
      "cell_type": "markdown",
      "source": [
        "#2.Check whether a given number is prime or not"
      ],
      "metadata": {
        "id": "ai4bruPw3crf"
      }
    },
    {
      "cell_type": "code",
      "source": [
        "num = int(input())\n",
        "prime = True\n",
        "for i in range(2,round(num**0.5)):\n",
        "    if (num%i==0):\n",
        "        prime = False\n",
        "        \n",
        "if prime== True :\n",
        "    print(\"The number is prime\")\n",
        "else:\n",
        "    print(\"The number is not prime\")"
      ],
      "metadata": {
        "colab": {
          "base_uri": "https://localhost:8080/"
        },
        "id": "5zA3-os53lo3",
        "outputId": "7e623caf-2a4b-4219-f8d8-46109e5c33be"
      },
      "execution_count": null,
      "outputs": [
        {
          "output_type": "stream",
          "name": "stdout",
          "text": [
            "13\n",
            "The number is prime\n"
          ]
        }
      ]
    },
    {
      "cell_type": "markdown",
      "source": [
        "#3.Count the number of digits \n",
        "#for ex :234786 output 6 "
      ],
      "metadata": {
        "id": "M5N41K4U4fBE"
      }
    },
    {
      "cell_type": "code",
      "source": [
        "num= int(input())\n",
        "num_digits = 0\n",
        "while num >0 :\n",
        "    num_digits+=1\n",
        "    num =num//10\n",
        "print(num_digits)"
      ],
      "metadata": {
        "colab": {
          "base_uri": "https://localhost:8080/"
        },
        "id": "-pAR5oML4wSa",
        "outputId": "1ac4c78d-f7f0-4647-a2e7-97d82ef39abf"
      },
      "execution_count": null,
      "outputs": [
        {
          "output_type": "stream",
          "name": "stdout",
          "text": [
            "234876\n",
            "6\n"
          ]
        }
      ]
    },
    {
      "cell_type": "markdown",
      "source": [
        "#4.Stair Pattern\n",
        "#*\n",
        "#**\n",
        "#***\n",
        "#****"
      ],
      "metadata": {
        "id": "S2aCqpqC5RnS"
      }
    },
    {
      "cell_type": "code",
      "source": [
        "N= int(input())\n",
        "for rows in range(1,N+1):\n",
        "    for cols in range(rows):\n",
        "        print(\"*\",end = '')\n",
        "    print(\"\")"
      ],
      "metadata": {
        "colab": {
          "base_uri": "https://localhost:8080/"
        },
        "id": "E-XWvmDx5YSI",
        "outputId": "e48e73e8-c686-4cb0-e3ef-0bbce6ae2680"
      },
      "execution_count": null,
      "outputs": [
        {
          "output_type": "stream",
          "name": "stdout",
          "text": [
            "6\n",
            "*\n",
            "**\n",
            "***\n",
            "****\n",
            "*****\n",
            "******\n"
          ]
        }
      ]
    },
    {
      "cell_type": "markdown",
      "source": [
        "#5.Print all the prime numbers between 1 and N\n",
        "# for ex : 10 --> 2,3,5,7\n",
        " \n"
      ],
      "metadata": {
        "id": "UwXoHPRv6YKZ"
      }
    },
    {
      "cell_type": "code",
      "source": [
        "N = int(input())\n",
        "for num in range(2,N+1):\n",
        "    for j in range(2,num):\n",
        "        if (num%j==0):\n",
        "            break;\n",
        "    else:\n",
        "        print(num)\n",
        "    \n",
        "   "
      ],
      "metadata": {
        "colab": {
          "base_uri": "https://localhost:8080/"
        },
        "id": "rN-YyTFd7cnD",
        "outputId": "0fd246f0-8d06-4672-bf6d-5de71e221e1e"
      },
      "execution_count": null,
      "outputs": [
        {
          "output_type": "stream",
          "name": "stdout",
          "text": [
            "10\n",
            "2\n",
            "3\n",
            "5\n",
            "7\n"
          ]
        }
      ]
    },
    {
      "cell_type": "markdown",
      "source": [
        "#6.Sum of the digits of a number for ex : \n",
        "#input = 32\n",
        "#output = 5 "
      ],
      "metadata": {
        "id": "Gvzg_LGDXawf"
      }
    },
    {
      "cell_type": "code",
      "source": [
        "N= int(input())\n",
        "sum = 0\n",
        "while(N>0):\n",
        "    digit = N%10\n",
        "    sum = sum +digit\n",
        "    N= N//10\n",
        "print(sum)\n"
      ],
      "metadata": {
        "colab": {
          "base_uri": "https://localhost:8080/"
        },
        "id": "OVWKxpZnXlJj",
        "outputId": "23316789-f102-433d-9a9b-ba460c159493"
      },
      "execution_count": 1,
      "outputs": [
        {
          "output_type": "stream",
          "name": "stdout",
          "text": [
            "32\n",
            "5\n"
          ]
        }
      ]
    },
    {
      "cell_type": "markdown",
      "source": [
        "#7. Reverse a number \n",
        "#ex 1342\n",
        "#output 2431"
      ],
      "metadata": {
        "id": "f4YjcXUJYG6f"
      }
    },
    {
      "cell_type": "code",
      "source": [
        "N= int(input())\n",
        "rev = 0\n",
        "\n",
        "while N>0:\n",
        "    digit = N%10\n",
        "    rev = rev*10+digit\n",
        "    N=N//10\n",
        "print(rev)\n"
      ],
      "metadata": {
        "colab": {
          "base_uri": "https://localhost:8080/"
        },
        "id": "xg1uoCsAYUoa",
        "outputId": "e6c90297-2750-4a49-9986-ffe153962af6"
      },
      "execution_count": 3,
      "outputs": [
        {
          "output_type": "stream",
          "name": "stdout",
          "text": [
            "1342\n",
            "2431\n"
          ]
        }
      ]
    }
  ]
}