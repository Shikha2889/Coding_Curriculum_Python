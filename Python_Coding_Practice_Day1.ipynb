{
  "nbformat": 4,
  "nbformat_minor": 0,
  "metadata": {
    "colab": {
      "name": "Python_Coding Practice Day1.ipynb",
      "provenance": [],
      "authorship_tag": "ABX9TyP52z/mggvsCNwHN8oIOlfP",
      "include_colab_link": true
    },
    "kernelspec": {
      "name": "python3",
      "display_name": "Python 3"
    },
    "language_info": {
      "name": "python"
    }
  },
  "cells": [
    {
      "cell_type": "markdown",
      "metadata": {
        "id": "view-in-github",
        "colab_type": "text"
      },
      "source": [
        "<a href=\"https://colab.research.google.com/github/Shikha2889/Coding_Curriculum_Python/blob/main/Python_Coding_Practice_Day1.ipynb\" target=\"_parent\"><img src=\"https://colab.research.google.com/assets/colab-badge.svg\" alt=\"Open In Colab\"/></a>"
      ]
    },
    {
      "cell_type": "markdown",
      "source": [
        "# 1. You are given an array of integers A of size N.\n",
        "#Return the difference between the maximum among all even numbers of A and the minimum among all odd numbers in A."
      ],
      "metadata": {
        "id": "ke_Qg4p4vxAa"
      }
    },
    {
      "cell_type": "code",
      "execution_count": null,
      "metadata": {
        "colab": {
          "base_uri": "https://localhost:8080/"
        },
        "id": "-3b84Qyivsd0",
        "outputId": "0139e3a4-e376-4e9e-bc88-638b7b6ff7fb"
      },
      "outputs": [
        {
          "output_type": "execute_result",
          "data": {
            "text/plain": [
              "7"
            ]
          },
          "metadata": {},
          "execution_count": 4
        }
      ],
      "source": [
        "def diff_max_even_min_odd(A):\n",
        "    max_even = -float('inf')\n",
        "    min_odd = float('inf')\n",
        "    for i in A:\n",
        "        if i%2 == 0:\n",
        "            if i>max_even:\n",
        "                max_even = i\n",
        "        else:\n",
        "            if i <min_odd:\n",
        "                min_odd = i\n",
        "\n",
        "    return max_even - min_odd\n",
        "\n",
        "diff_max_even_min_odd([2,3,7,1,9,8])\n",
        "            \n"
      ]
    },
    {
      "cell_type": "markdown",
      "source": [
        "#2. Little Ponny is given an array, A, of N integers. In a particular operation, he can set any element of the array equal to -1.\n",
        "\n",
        "#He wants your help for finding out the minimum number of operations required such that the maximum element of the resulting array is B. If it is not possible then return -1."
      ],
      "metadata": {
        "id": "V9Ty-p1byKI0"
      }
    },
    {
      "cell_type": "code",
      "source": [
        "A = [23, 47, 8, 49, 47, 32, 48, 4, 36, 11, 8, 13, 2, 10, 18, 39, 31, 45, 9, 30 ]\n",
        "B = 5\n",
        "\n",
        "def min_operations(A,B):\n",
        "    count = 0\n",
        "    for i in A:\n",
        "        if i > B:\n",
        "            count+=1\n",
        "    if count == 0 or B not in A:\n",
        "        return -1\n",
        "    else:\n",
        "        return count\n",
        "    \n",
        "min_operations(A,B)"
      ],
      "metadata": {
        "colab": {
          "base_uri": "https://localhost:8080/"
        },
        "id": "H0c5peeYych2",
        "outputId": "84c60b95-b7b7-4b2b-b8af-bf32786c91a5"
      },
      "execution_count": null,
      "outputs": [
        {
          "output_type": "execute_result",
          "data": {
            "text/plain": [
              "-1"
            ]
          },
          "metadata": {},
          "execution_count": 13
        }
      ]
    },
    {
      "cell_type": "markdown",
      "source": [
        "#3.Shivam has a string A of size N containing only lowercase characters. He will update the string by inserting a number after every char which will be the index of that char.\n",
        "\n",
        "#For E.g.: if string is azd then it will be updated as a1z26d4 since index of a is 1, of z is 26 and of d is 4.\n",
        "\n",
        "#You have to tell how the string will look like afterwards,\n",
        "\n",
        "\n",
        "\n",
        "#Problem Constraints\n",
        "\n",
        "#1 <= A.size() <= 1000\n",
        "\n",
        "#a <= A[i] <= z\n",
        "\n",
        "\n",
        "\n",
        "#Input Format\n",
        "\n",
        "#First argument is string A.\n",
        "\n",
        "\n",
        "\n",
        "#Output Format\n",
        "\n",
        "#You have to return an string as per the question.\n",
        "\n",
        "\n",
        "\n",
        "#Example Input\n",
        "\n",
        "#Input 1:\n",
        "\n",
        "#scaler\n",
        "\n",
        "\n",
        "#Example Output\n",
        "\n",
        "#Output 1:s19c3a1l12e5r18"
      ],
      "metadata": {
        "id": "Zv0xaBNE3Mhb"
      }
    },
    {
      "cell_type": "code",
      "source": [
        "text = 'scaler'\n",
        "new_text = ''\n",
        "for i in text:\n",
        "    num = ord(i)-96\n",
        "\n",
        "    new_text = new_text+i\n",
        "    new_text = new_text+str(num)\n",
        "print(new_text)\n"
      ],
      "metadata": {
        "colab": {
          "base_uri": "https://localhost:8080/"
        },
        "id": "C524W4qQ3msi",
        "outputId": "b59dbd50-5eb7-4f94-89f5-033ccd4c0b84"
      },
      "execution_count": null,
      "outputs": [
        {
          "output_type": "stream",
          "name": "stdout",
          "text": [
            "s19c3a1l12e5r18\n"
          ]
        }
      ]
    },
    {
      "cell_type": "markdown",
      "source": [
        "#4.Given a string A consisting only of lowercase characters.\n",
        "\n",
        "#You can swap any two characters of the string A any number of times, you have to check whether it is possible to convert the string A to a palindromic string.\n",
        "\n",
        "#Return 1 if it is possible to else return 0."
      ],
      "metadata": {
        "id": "AhcI8sGs4vL_"
      }
    },
    {
      "cell_type": "code",
      "source": [
        "def is_Palindrome_Possible(text):\n",
        "    freq = {}\n",
        "    count_odd = 0\n",
        "    for i in text:\n",
        "        if i not in freq:\n",
        "            freq[i] = 1\n",
        "        else:\n",
        "            freq[i]+=1\n",
        "    for key,values in freq.items():\n",
        "        if(values % 2 != 0):\n",
        "            count_odd+=1\n",
        "    if count_odd>1:\n",
        "        return 0\n",
        "    else:\n",
        "        return 1\n",
        "\n",
        "is_Palindrome_Possible('swxslszkzygsrawregxcefnlvyfkyxysntxacvsts')"
      ],
      "metadata": {
        "id": "pf0hiWm65BPc",
        "colab": {
          "base_uri": "https://localhost:8080/"
        },
        "outputId": "e5778cc2-c1d0-418a-faa7-162456e17b47"
      },
      "execution_count": 6,
      "outputs": [
        {
          "output_type": "execute_result",
          "data": {
            "text/plain": [
              "1"
            ]
          },
          "metadata": {},
          "execution_count": 6
        }
      ]
    },
    {
      "cell_type": "code",
      "source": [
        "#How to check if a string is palindrome or not \n",
        "#text = 'abab'\n",
        "text = 'aba'\n",
        "start = 0\n",
        "end = len(text)-1\n",
        "palindrome = True\n",
        "while start <len(text)//2:\n",
        "    if(text[start]!=text[end]):\n",
        "        palindrome = False\n",
        "    start+=1\n",
        "    end-=1\n",
        "\n",
        "print(palindrome)\n",
        "    "
      ],
      "metadata": {
        "colab": {
          "base_uri": "https://localhost:8080/"
        },
        "id": "JA7VOd9K5Flj",
        "outputId": "1fa314d2-fd1b-4010-d68a-cbb6ec4dd891"
      },
      "execution_count": null,
      "outputs": [
        {
          "output_type": "stream",
          "name": "stdout",
          "text": [
            "True\n"
          ]
        }
      ]
    }
  ]
}